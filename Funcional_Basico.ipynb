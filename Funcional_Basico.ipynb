{
 "cells": [
  {
   "attachments": {},
   "cell_type": "markdown",
   "metadata": {},
   "source": [
    "For : elemento por elemento"
   ]
  },
  {
   "cell_type": "code",
   "execution_count": 4,
   "metadata": {},
   "outputs": [
    {
     "name": "stdout",
     "output_type": "stream",
     "text": [
      "1\n",
      "2\n",
      "3\n"
     ]
    }
   ],
   "source": [
    "numeros = str(123) \n",
    "for x in numeros:\n",
    "    print(x)"
   ]
  },
  {
   "attachments": {},
   "cell_type": "markdown",
   "metadata": {},
   "source": [
    "List : converter lista str em uma lista int utilizando map"
   ]
  },
  {
   "cell_type": "code",
   "execution_count": 5,
   "metadata": {},
   "outputs": [
    {
     "name": "stdout",
     "output_type": "stream",
     "text": [
      "[1, 2, 3, 4, 5]\n"
     ]
    }
   ],
   "source": [
    "numeros_str = ['1', '2', '3', '4', '5']\n",
    "\n",
    "conversor_str_para_int = list(map(lambda l : int(l) , numeros_str))\n",
    "print(conversor_str_para_int)"
   ]
  },
  {
   "attachments": {},
   "cell_type": "markdown",
   "metadata": {},
   "source": [
    "For procedural"
   ]
  },
  {
   "cell_type": "code",
   "execution_count": 6,
   "metadata": {},
   "outputs": [
    {
     "data": {
      "text/plain": [
       "[1, 2, 3, 4, 5]"
      ]
     },
     "execution_count": 6,
     "metadata": {},
     "output_type": "execute_result"
    }
   ],
   "source": [
    "numeros_str = ['1', '2', '3', '4', '5']\n",
    "numeros_int = []\n",
    "\n",
    "for numero_str in numeros_str:\n",
    "    numeros_int.append(int(numero_str))\n",
    "    \n",
    "numeros_int"
   ]
  },
  {
   "attachments": {},
   "cell_type": "markdown",
   "metadata": {},
   "source": [
    "\"For\" Compreensão de lista\n",
    "\n",
    "A compreensão de lista é uma maneira concisa e expressiva de criar uma nova lista em Python.\n",
    "\n",
    "[expressão for elemento in iterável [if condição]]\n",
    "\n",
    "expressão: é a expressão que será avaliada para cada elemento do iterável.\n",
    "\n",
    "elemento: é a variável que representa cada elemento do iterável.\n",
    "\n",
    "iterável: é o objeto iterável usado para gerar a nova lista.\n",
    "\n",
    "condição (opcional): é uma expressão booleana que determina se o elemento deve ou não ser incluído na nova lista.\n",
    "\n"
   ]
  },
  {
   "cell_type": "code",
   "execution_count": 7,
   "metadata": {},
   "outputs": [
    {
     "data": {
      "text/plain": [
       "[1, 2, 3, 4, 5]"
      ]
     },
     "execution_count": 7,
     "metadata": {},
     "output_type": "execute_result"
    }
   ],
   "source": [
    "numeros_str = ['1', '2', '3', '4', '5']\n",
    "numeros_int = []\n",
    "\n",
    "numeros_int = [int(x) for x in numeros_str]\n",
    "\n",
    "numeros_int\n"
   ]
  },
  {
   "attachments": {},
   "cell_type": "markdown",
   "metadata": {},
   "source": [
    "Compreensão de lista exemplo 02\n",
    "\n",
    "\n"
   ]
  },
  {
   "cell_type": "code",
   "execution_count": 8,
   "metadata": {},
   "outputs": [
    {
     "data": {
      "text/plain": [
       "[1, 4, 9, 16]"
      ]
     },
     "execution_count": 8,
     "metadata": {},
     "output_type": "execute_result"
    }
   ],
   "source": [
    "numeros = [1, 2, 3, 4, 5]\n",
    "\n",
    "quadrados = [x ** 2 for x in numeros if x != 5]\n",
    "\n",
    "quadrados"
   ]
  },
  {
   "attachments": {},
   "cell_type": "markdown",
   "metadata": {},
   "source": [
    "Transformar Lista str em uma unica str"
   ]
  },
  {
   "cell_type": "code",
   "execution_count": 9,
   "metadata": {},
   "outputs": [
    {
     "data": {
      "text/plain": [
       "'12345'"
      ]
     },
     "execution_count": 9,
     "metadata": {},
     "output_type": "execute_result"
    }
   ],
   "source": [
    "numeros_str = ['1', '2', '3', '4', '5']\n",
    "concatenado = \"\".join(numeros_str)\n",
    "\n",
    "concatenado"
   ]
  },
  {
   "attachments": {},
   "cell_type": "markdown",
   "metadata": {},
   "source": [
    "exemplo"
   ]
  },
  {
   "cell_type": "code",
   "execution_count": 10,
   "metadata": {},
   "outputs": [
    {
     "name": "stdout",
     "output_type": "stream",
     "text": [
      "(10, 20, 30, 50)\n"
     ]
    }
   ],
   "source": [
    "def remove_elemento(tupla, elemento):\n",
    "    lista = list(tupla)  # converte a tupla em uma lista mutável\n",
    "    lista.remove(elemento)  # remove o elemento da lista\n",
    "    nova_tupla = tuple(lista)  # converte a lista de volta para uma tupla\n",
    "    return nova_tupla\n",
    "\n",
    "minha_tupla = (10, 20, 30, 40, 50)\n",
    "nova_tupla = remove_elemento(minha_tupla, 40)\n",
    "print(nova_tupla)  # saída: (10, 20, 40, 50)\n"
   ]
  },
  {
   "cell_type": "code",
   "execution_count": 11,
   "metadata": {},
   "outputs": [
    {
     "data": {
      "text/plain": [
       "[1, 4, 9, 40, 25]"
      ]
     },
     "execution_count": 11,
     "metadata": {},
     "output_type": "execute_result"
    }
   ],
   "source": [
    "numeros = [1, 2, 3, 4, 5]\n",
    "\n",
    "def qualquer (x):\n",
    "    if(x == 4):\n",
    "        return x*10\n",
    "    else:\n",
    "        return x**2\n",
    "\n",
    "lista_nova = list(map(qualquer,numeros))\n",
    "lista_nova"
   ]
  },
  {
   "attachments": {},
   "cell_type": "markdown",
   "metadata": {},
   "source": [
    "Monad é um conceito em programação funcional que fornece uma maneira de tratar e manipular efeitos colaterais (como leitura/escrita em disco, comunicação com bancos de dados, I/O, etc.) // na chamada o argumento func recebe uma função para invocar a função que for passada, deixando a expressão mais flexivel"
   ]
  },
  {
   "cell_type": "code",
   "execution_count": 25,
   "metadata": {},
   "outputs": [
    {
     "name": "stdout",
     "output_type": "stream",
     "text": [
      "\n",
      "('safe_remove invocado index:', 1)\n",
      "Lista vazia\n"
     ]
    }
   ],
   "source": [
    "def safe_remove(list,i):\n",
    "   return ('safe_remove invocado index:',list[i])\n",
    "\n",
    "lista= [1,2,3,4,5]\n",
    "chamada = lambda l,i,func : l == None and 'Lista vazia' or i > len(l)-1 and 'Index invalido' or func(l,i)\n",
    "\n",
    "print()\n",
    "print(chamada(lista,0,safe_remove))\n",
    "print(chamada(None,1,safe_remove))"
   ]
  },
  {
   "cell_type": "code",
   "execution_count": 26,
   "metadata": {},
   "outputs": [
    {
     "name": "stdout",
     "output_type": "stream",
     "text": [
      "None\n"
     ]
    }
   ],
   "source": [
    "teste = lambda x : x=='a' and None\n",
    "print(teste('a'))"
   ]
  }
 ],
 "metadata": {
  "kernelspec": {
   "display_name": "base",
   "language": "python",
   "name": "python3"
  },
  "language_info": {
   "codemirror_mode": {
    "name": "ipython",
    "version": 3
   },
   "file_extension": ".py",
   "mimetype": "text/x-python",
   "name": "python",
   "nbconvert_exporter": "python",
   "pygments_lexer": "ipython3",
   "version": "3.9.13"
  },
  "orig_nbformat": 4,
  "vscode": {
   "interpreter": {
    "hash": "ef3c61173d665a6ec918e670d01d9befcc1c850f6a7aa4a87e1569dff035f2cd"
   }
  }
 },
 "nbformat": 4,
 "nbformat_minor": 2
}
